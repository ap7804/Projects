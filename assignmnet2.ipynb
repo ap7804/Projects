{
 "cells": [
  {
   "cell_type": "code",
   "execution_count": 2,
   "id": "e9b39300-0a01-4071-acaf-037b4275e2bd",
   "metadata": {},
   "outputs": [
    {
     "name": "stdout",
     "output_type": "stream",
     "text": [
      "[('Virat Kohli', 24986), ('Jack Kallis', 25534), ('ricky Ponting', 27483), ('Sachin Tendulkar', 34357)]\n"
     ]
    }
   ],
   "source": [
    "# Q1   ##Bubble sort algorithm\n",
    "l=[('Sachin Tendulkar',34357),('ricky Ponting',27483),('Jack Kallis',25534),('Virat Kohli',24986)]\n",
    "ayush=lambda x,y : True if x<y else False\n",
    "i=3\n",
    "j=0\n",
    "while i>=0:\n",
    "    while j<i:\n",
    "        if ayush(l[j][1],l[j+1][1])==False:\n",
    "            a=l[j]\n",
    "            l[j]=l[j+1]\n",
    "            l[j+1]=a\n",
    "        j=j+1    \n",
    "    i=i-1\n",
    "    j=0\n",
    "print(l)    "
   ]
  },
  {
   "cell_type": "code",
   "execution_count": 7,
   "id": "c8927596-b634-4891-ab09-3439517d13ab",
   "metadata": {},
   "outputs": [
    {
     "data": {
      "text/plain": [
       "[1, 4, 9, 16, 25, 36, 49, 64, 81, 100]"
      ]
     },
     "execution_count": 7,
     "metadata": {},
     "output_type": "execute_result"
    }
   ],
   "source": [
    "# Q2\n",
    "list2=list(range(1,11))\n",
    "squares=lambda x : x**2\n",
    "list(map(squares,l))"
   ]
  },
  {
   "cell_type": "code",
   "execution_count": 8,
   "id": "adc8acd7-29da-402f-8f5c-5fa34e4af86d",
   "metadata": {},
   "outputs": [
    {
     "data": {
      "text/plain": [
       "('1', '2', '3', '4', '5', '6', '7', '8', '9', '10')"
      ]
     },
     "execution_count": 8,
     "metadata": {},
     "output_type": "execute_result"
    }
   ],
   "source": [
    "# Q3\n",
    "list3=list(range(1,11))\n",
    "ap=lambda x : str(x)\n",
    "tuple(map(ap,list3))"
   ]
  },
  {
   "cell_type": "code",
   "execution_count": 11,
   "id": "eab766e8-320c-4d28-9f5c-e2b5b0b80f8a",
   "metadata": {},
   "outputs": [
    {
     "data": {
      "text/plain": [
       "3628800"
      ]
     },
     "execution_count": 11,
     "metadata": {},
     "output_type": "execute_result"
    }
   ],
   "source": [
    "# Q4\n",
    "from functools import reduce\n",
    "list4=list(range(1,26))\n",
    "reduce(lambda x,y : x*y, l)"
   ]
  },
  {
   "cell_type": "code",
   "execution_count": 17,
   "id": "1642ab49-d2a1-4156-b275-43ffa1012dd8",
   "metadata": {},
   "outputs": [
    {
     "name": "stdout",
     "output_type": "stream",
     "text": [
      "[6, 60, 90, 120]\n"
     ]
    }
   ],
   "source": [
    "# Q5\n",
    "def ayush_p(x):\n",
    "    if x%6==0:\n",
    "        return x\n",
    "list5=[2,3,6,9,27,60,90,120,55,46]\n",
    "list6=list(filter(lambda x : x%6==0,list5))\n",
    "print(list6)"
   ]
  },
  {
   "cell_type": "code",
   "execution_count": 19,
   "id": "107d785b-efc1-4069-83fa-5bbb94291feb",
   "metadata": {},
   "outputs": [
    {
     "data": {
      "text/plain": [
       "['php', 'aba', 'radar', 'level']"
      ]
     },
     "execution_count": 19,
     "metadata": {},
     "output_type": "execute_result"
    }
   ],
   "source": [
    "# Q6\n",
    "list7=['python','php','aba','radar','level']\n",
    "def check_palindrome(string):\n",
    "    flag=0\n",
    "    for i in range(len(string)):\n",
    "        if(string[i]!=string[len(string)-1-i]):\n",
    "            flag=1\n",
    "    if flag==0:\n",
    "        return True\n",
    "    else:\n",
    "        return False\n",
    "list(filter(lambda x : check_palindrome(x)==True,list7))    "
   ]
  },
  {
   "cell_type": "code",
   "execution_count": null,
   "id": "1c8b6d21-f7c1-42ab-8d0d-94ccdb174cf1",
   "metadata": {},
   "outputs": [],
   "source": []
  }
 ],
 "metadata": {
  "kernelspec": {
   "display_name": "Python 3 (ipykernel)",
   "language": "python",
   "name": "python3"
  },
  "language_info": {
   "codemirror_mode": {
    "name": "ipython",
    "version": 3
   },
   "file_extension": ".py",
   "mimetype": "text/x-python",
   "name": "python",
   "nbconvert_exporter": "python",
   "pygments_lexer": "ipython3",
   "version": "3.10.8"
  }
 },
 "nbformat": 4,
 "nbformat_minor": 5
}
