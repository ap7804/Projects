{
 "cells": [
  {
   "cell_type": "code",
   "execution_count": null,
   "id": "c009e3aa-2134-4f32-93d5-6dc83c6dcf3e",
   "metadata": {},
   "outputs": [],
   "source": [
    "#Q1"
   ]
  },
  {
   "cell_type": "code",
   "execution_count": null,
   "id": "35ec86ea-9a40-4b8f-990d-adba4b7fc07c",
   "metadata": {},
   "outputs": [],
   "source": [
    "# We use (def) keyword for creating a function."
   ]
  },
  {
   "cell_type": "code",
   "execution_count": 9,
   "id": "1501660d-ac6c-4b20-a800-571a537d894a",
   "metadata": {},
   "outputs": [
    {
     "data": {
      "text/plain": [
       "[1, 3, 5, 7, 9, 11, 13, 15, 17, 19, 21, 23, 25]"
      ]
     },
     "execution_count": 9,
     "metadata": {},
     "output_type": "execute_result"
    }
   ],
   "source": [
    "def odd_no():\n",
    "    l=[]\n",
    "    for i in range(1,26):\n",
    "        if i%2!=0 :\n",
    "            l.append(i)\n",
    "    return l\n",
    "odd_no()"
   ]
  },
  {
   "cell_type": "code",
   "execution_count": null,
   "id": "024bf41b-8d9d-43af-a2cf-ebe10b0838f4",
   "metadata": {},
   "outputs": [],
   "source": [
    "#Q2"
   ]
  },
  {
   "cell_type": "code",
   "execution_count": null,
   "id": "b89e6303-8459-433f-ba56-489dc008fcb1",
   "metadata": {},
   "outputs": [],
   "source": [
    "# *args is used when user wants to give dyanamic data\n",
    "# if the number of inputs are not specified for a fuction then *args is used"
   ]
  },
  {
   "cell_type": "code",
   "execution_count": 6,
   "id": "ce18ea77-ff5e-420f-bbb3-19eea1ee32cc",
   "metadata": {},
   "outputs": [
    {
     "data": {
      "text/plain": [
       "[2, 4, 6, 8, 10, 12, 14, 16]"
      ]
     },
     "execution_count": 6,
     "metadata": {},
     "output_type": "execute_result"
    }
   ],
   "source": [
    "def double_the_inputs(*args):\n",
    "    l1=[]\n",
    "    for i in  range(len(args)):\n",
    "        l1.append(args[i]*2)\n",
    "    return l1   \n",
    "double_the_inputs(1,2,3,4,5,6,7,8)    "
   ]
  },
  {
   "cell_type": "code",
   "execution_count": null,
   "id": "39127779-5238-41b6-a9fd-160b550f71ec",
   "metadata": {},
   "outputs": [],
   "source": [
    "# *kwargs is used when user wants to give value with a key"
   ]
  },
  {
   "cell_type": "code",
   "execution_count": 8,
   "id": "301b86e8-33ce-481f-bd2d-6fe5b4f28b00",
   "metadata": {},
   "outputs": [
    {
     "data": {
      "text/plain": [
       "{'rollno': 1105, 'Name': 'Ayush', 'Account_no': 21323456778}"
      ]
     },
     "execution_count": 8,
     "metadata": {},
     "output_type": "execute_result"
    }
   ],
   "source": [
    "def show_details(**kwargs):\n",
    "    return kwargs\n",
    "show_details(rollno=1105,Name='Ayush',Account_no=21323456778)"
   ]
  },
  {
   "cell_type": "code",
   "execution_count": null,
   "id": "c3fd1d75-808a-4bd2-a00a-615acb3aaefe",
   "metadata": {},
   "outputs": [],
   "source": [
    "#Q3"
   ]
  },
  {
   "cell_type": "code",
   "execution_count": 10,
   "id": "ea32ef61-ee79-4757-9101-77e6b043c887",
   "metadata": {},
   "outputs": [
    {
     "name": "stdout",
     "output_type": "stream",
     "text": [
      "2\n",
      "4\n",
      "6\n",
      "8\n",
      "10\n"
     ]
    }
   ],
   "source": [
    "# Iterator is simply an object which store some data and it can be traversed .\n",
    "# iter() method is used to i initialise the iterator object and next() method is used for iteration.\n",
    "l3=[2,4,6,8,10,12,14,16,18,20]\n",
    "my_iter=iter(l3)\n",
    "for i in range(5):\n",
    "    print(next(my_iter))"
   ]
  },
  {
   "cell_type": "code",
   "execution_count": null,
   "id": "e8afdae5-90f9-43d0-b757-8d1ca7aa41b7",
   "metadata": {},
   "outputs": [],
   "source": [
    "# Q4\n",
    "# Genareator fucntion uses a keyword yield insted of return.\n",
    "\"\"\"yield is a keyword which is used to get the value on demand which increase data storage efficiency when there \n",
    "is a large dataset. It also controls the iteration in an excellent manner.\"\"\""
   ]
  },
  {
   "cell_type": "code",
   "execution_count": 15,
   "id": "d948add4-07b7-48ea-92b0-01de8e2b97f3",
   "metadata": {},
   "outputs": [
    {
     "name": "stdin",
     "output_type": "stream",
     "text": [
      " 5\n"
     ]
    },
    {
     "name": "stdout",
     "output_type": "stream",
     "text": [
      "5\n",
      "25\n",
      "125\n",
      "625\n",
      "3125\n",
      "15625\n",
      "78125\n",
      "390625\n",
      "1953125\n",
      "9765625\n"
     ]
    }
   ],
   "source": [
    "def n_powers_till_10(n):\n",
    "    a=n\n",
    "    for i in range(2,12):\n",
    "        yield a\n",
    "        a=n**i\n",
    "for i in n_powers_till_10(int(input())):\n",
    "                          print(i)"
   ]
  },
  {
   "cell_type": "code",
   "execution_count": null,
   "id": "f4045c8f-d0e8-4dff-908e-3433f35537a7",
   "metadata": {},
   "outputs": [],
   "source": [
    "# Q5"
   ]
  },
  {
   "cell_type": "code",
   "execution_count": 17,
   "id": "67103edd-1f20-42e7-8a77-c2ba79506ac7",
   "metadata": {},
   "outputs": [
    {
     "name": "stdout",
     "output_type": "stream",
     "text": [
      "2\n",
      "3\n",
      "5\n",
      "7\n",
      "11\n",
      "13\n",
      "17\n",
      "19\n",
      "23\n",
      "29\n",
      "31\n",
      "37\n",
      "41\n",
      "43\n",
      "47\n",
      "53\n",
      "59\n",
      "61\n",
      "67\n",
      "71\n"
     ]
    }
   ],
   "source": [
    "def is_it_prime(n):\n",
    "    flag=0\n",
    "    for i in range(2,n):\n",
    "        if n%i==0:\n",
    "            flag=1\n",
    "    if flag==0:\n",
    "        return True\n",
    "    else:\n",
    "        return False\n",
    "def primes():\n",
    "    a=2;\n",
    "    while True:\n",
    "        if is_it_prime(a)==True and a<1000:\n",
    "            yield a\n",
    "            a=a+1\n",
    "        else:\n",
    "            a=a+1\n",
    "ayush=primes()\n",
    "for i in range(20):\n",
    "    print(next(ayush))"
   ]
  },
  {
   "cell_type": "code",
   "execution_count": null,
   "id": "e91a3e83-8add-453c-a4dc-923faad70578",
   "metadata": {},
   "outputs": [],
   "source": [
    "# Q6"
   ]
  },
  {
   "cell_type": "code",
   "execution_count": 26,
   "id": "82adab69-f079-46f3-8a8e-dc6890eb24b7",
   "metadata": {},
   "outputs": [
    {
     "name": "stdout",
     "output_type": "stream",
     "text": [
      "0\n",
      "1\n",
      "1\n",
      "2\n",
      "3\n",
      "5\n",
      "8\n",
      "13\n",
      "21\n",
      "34\n"
     ]
    }
   ],
   "source": [
    "def fib():\n",
    "    a=0\n",
    "    b=1\n",
    "    for i in range(10):\n",
    "        yield a\n",
    "        c=a+b\n",
    "        a=b\n",
    "        b=c\n",
    "for i in fib():\n",
    "    print(i)"
   ]
  },
  {
   "cell_type": "code",
   "execution_count": null,
   "id": "1db15e59-f9e8-4a79-ba7e-601f4d9de221",
   "metadata": {},
   "outputs": [],
   "source": [
    "# Q7"
   ]
  },
  {
   "cell_type": "code",
   "execution_count": 28,
   "id": "4967b6f2-3fd0-49f1-a50c-542d9163c989",
   "metadata": {},
   "outputs": [
    {
     "name": "stdout",
     "output_type": "stream",
     "text": [
      "['p', 'w', 's', 'k', 'i', 'l', 'l', 's']\n"
     ]
    }
   ],
   "source": [
    "a=\"pwskills\"\n",
    "list1=[i for i in a]\n",
    "print(list1)"
   ]
  },
  {
   "cell_type": "code",
   "execution_count": null,
   "id": "73d9104a-d240-4d1d-b28b-cca5908857a2",
   "metadata": {},
   "outputs": [],
   "source": [
    "# Q8"
   ]
  },
  {
   "cell_type": "code",
   "execution_count": 43,
   "id": "367c7df5-b97f-46ad-994d-1974965688f7",
   "metadata": {},
   "outputs": [
    {
     "name": "stdin",
     "output_type": "stream",
     "text": [
      " 1221\n"
     ]
    },
    {
     "name": "stdout",
     "output_type": "stream",
     "text": [
      "It is Palindrome\n"
     ]
    }
   ],
   "source": [
    "input_int=(input())\n",
    "flag=1\n",
    "for i in range(len(input_int)):\n",
    "    if(input_int[i]!=input_int[len(input_int)-1-i]):\n",
    "        flag=0\n",
    "if(flag==1):\n",
    "    print(\"It is Palindrome\")\n",
    "else:\n",
    "    print(\"It is not Palindrome\")"
   ]
  },
  {
   "cell_type": "code",
   "execution_count": null,
   "id": "d9dd6bba-bfa7-4c07-801c-10457a0632df",
   "metadata": {},
   "outputs": [],
   "source": [
    "# Q9"
   ]
  }
 ],
 "metadata": {
  "kernelspec": {
   "display_name": "Python 3 (ipykernel)",
   "language": "python",
   "name": "python3"
  },
  "language_info": {
   "codemirror_mode": {
    "name": "ipython",
    "version": 3
   },
   "file_extension": ".py",
   "mimetype": "text/x-python",
   "name": "python",
   "nbconvert_exporter": "python",
   "pygments_lexer": "ipython3",
   "version": "3.10.8"
  }
 },
 "nbformat": 4,
 "nbformat_minor": 5
}
