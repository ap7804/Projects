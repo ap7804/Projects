{
 "cells": [
  {
   "cell_type": "code",
   "execution_count": null,
   "id": "828fb5b0-0b34-4234-9bc2-0e47a37373ca",
   "metadata": {},
   "outputs": [],
   "source": [
    "                                                                  #Question1\n",
    "#string\n",
    "a='physicswallah'\n",
    "#list\n",
    "s=[1,2,3,4,'India']\n",
    "#float\n",
    "x=184.89\n",
    "#tuple\n",
    "v=(1,2,3,4,'India')\n",
    "                                                                  # Question 2\n",
    "#1. String\n",
    "#2. String\n",
    "#3. List\n",
    "#4. Float"
   ]
  },
  {
   "cell_type": "code",
   "execution_count": null,
   "id": "0ae853db-26f6-4f8a-bebf-a65fca1d38a1",
   "metadata": {},
   "outputs": [],
   "source": [
    "                                                                   #Question 3\n",
    "                 #    1. /    It is a division operator. It is used to divide two numbers\n",
    "#Example\n",
    "x=12/6 \n",
    "print(x)\n",
    "                 #   2. %    It is modulo operator. a%b gives remainder of a divided by b. Its sign is always same as that of b.\n",
    "#Example\n",
    "y= (5%2)\n",
    "print(y)\n",
    "                 #   3. //    a//b means it rounds of the division a and b to nearest integer.\n",
    "#Example\n",
    "v=7//3\n",
    "print(v)         \n",
    "                 #   4. **    a**b means a raised to the power b.\n",
    "#Example\n",
    "m=2**3\n",
    "print(m)       "
   ]
  },
  {
   "cell_type": "code",
   "execution_count": null,
   "id": "be38cbee-7e5a-4016-9625-e4fa1414c44b",
   "metadata": {},
   "outputs": [],
   "source": [
    "                                                                     #Question 4:\n",
    "#Creation of list\n",
    "list1=[100,200,3+4j,-6j,123.65,\"India_Is_Best\",\"PW_OP\",[1,2,3,5],True,False]\n",
    "#Printing the value of Data and its type\n",
    "for i in list1 :\n",
    "    print(\"value= \",i)\n",
    "    print(type(i))\n",
    "    print(\"\\n\")"
   ]
  },
  {
   "cell_type": "code",
   "execution_count": null,
   "id": "39f216ac-01e5-4790-bcf7-365bad168602",
   "metadata": {},
   "outputs": [],
   "source": [
    "                                                                     #Question 5:\n",
    "A=int(input(\"Enter A\"))\n",
    "B=int(input(\"ENter B\"))\n",
    "no_of_counts=0\n",
    "while A/B >= 1 :\n",
    "    no_of_counts+=1\n",
    "    A=A/B\n",
    "print(no_of_counts) "
   ]
  },
  {
   "cell_type": "code",
   "execution_count": null,
   "id": "8f82edd3-5674-4cc9-870e-fa9c8a658366",
   "metadata": {},
   "outputs": [],
   "source": [
    "                                                                   #Question 6:\n",
    "list2=[1,5,2,3,56,33,78,90,1123,11,246,67,100,900,22,30,60,9,55,89,45,21,12345,95,23456]\n",
    "for i in list2 :\n",
    "    if (i % 3) == 0 :\n",
    "        print(\"Divisible : \",i)\n",
    "    else :\n",
    "        print(\"Not Divisible : \",i)"
   ]
  },
  {
   "cell_type": "code",
   "execution_count": null,
   "id": "bf65ea18-3dfd-4e9b-97ba-81ed57a4ce65",
   "metadata": {},
   "outputs": [],
   "source": [
    "                                                                      #Question 7:\n",
    "''' Mutable obejects refers when indexing comes into play. After assigning some values to a variable , if it allows to change value of a particular index then it is said to be a mutable object.\n",
    "If not then iit is saiud to a immatuble object\n",
    "Example of a Mutable object-->LIST'''\n",
    "list4=[1,2,3,4,'shravan']\n",
    "print(list4)\n",
    "list4[3]=5\n",
    "print(list4)#see the 3rd index is changed from 4 to 5\n",
    "'''Example of immutable object-->STRING'''\n",
    "string1=\"AYUSH\"\n",
    "print(string1)\n",
    "string1[1]=\"T\"#THIS SHOWS AN ERROR\n",
    "print(string1)"
   ]
  }
 ],
 "metadata": {
  "kernelspec": {
   "display_name": "Python 3 (ipykernel)",
   "language": "python",
   "name": "python3"
  },
  "language_info": {
   "codemirror_mode": {
    "name": "ipython",
    "version": 3
   },
   "file_extension": ".py",
   "mimetype": "text/x-python",
   "name": "python",
   "nbconvert_exporter": "python",
   "pygments_lexer": "ipython3",
   "version": "3.10.8"
  }
 },
 "nbformat": 4,
 "nbformat_minor": 5
}
