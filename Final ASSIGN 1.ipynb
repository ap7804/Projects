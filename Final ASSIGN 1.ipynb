{
 "cells": [
  {
   "cell_type": "raw",
   "id": "7b62236e-d77d-448d-bc65-7011e56540f3",
   "metadata": {},
   "source": [
    "                                                                                Question1"
   ]
  },
  {
   "cell_type": "code",
   "execution_count": null,
   "id": "828fb5b0-0b34-4234-9bc2-0e47a37373ca",
   "metadata": {},
   "outputs": [],
   "source": [
    "#string\n",
    "a='physicswallah'\n",
    "#list\n",
    "s=[1,2,3,4,'India']\n",
    "#float\n",
    "x=184.89\n",
    "#tuple\n",
    "v=(1,2,3,4,'India')"
   ]
  },
  {
   "cell_type": "raw",
   "id": "440fd657-d995-4fee-a1cd-fa16d8663e27",
   "metadata": {},
   "source": [
    "                                                                                Question 2"
   ]
  },
  {
   "cell_type": "raw",
   "id": "8cb7b411-d8a0-4814-a676-5c18bafb1da9",
   "metadata": {},
   "source": [
    "1. String\n",
    "2. String\n",
    "3. List\n",
    "4. Float"
   ]
  },
  {
   "cell_type": "raw",
   "id": "52560ceb-b5d7-438b-a13b-567ae5d8c00e",
   "metadata": {},
   "source": [
    "                                                                                Question 3"
   ]
  },
  {
   "cell_type": "raw",
   "id": "61dcb37d-7389-4886-816c-26b589cbd2d2",
   "metadata": {},
   "source": [
    "1. /    It is a division operator. It is used to divide two numbers"
   ]
  },
  {
   "cell_type": "code",
   "execution_count": null,
   "id": "0ae853db-26f6-4f8a-bebf-a65fca1d38a1",
   "metadata": {},
   "outputs": [],
   "source": [
    "#Example\n",
    "x=12/6 \n",
    "print(x)"
   ]
  },
  {
   "cell_type": "raw",
   "id": "48332380-9aba-42c6-9c8a-156b6e0e2210",
   "metadata": {},
   "source": [
    "2. %    It is modulo operator. a%b gives remainder of a divided by b. Its sign is always same as that of b."
   ]
  },
  {
   "cell_type": "code",
   "execution_count": null,
   "id": "e4f26f20-c14c-44c6-a9a4-6b4bdf2ac2ae",
   "metadata": {},
   "outputs": [],
   "source": [
    "#Example\n",
    "y= (5%2)\n",
    "print(y)"
   ]
  },
  {
   "cell_type": "raw",
   "id": "dd134784-0549-4547-a308-a0b3e1accf7c",
   "metadata": {},
   "source": [
    "3. //    a//b means it rounds of the division a and b to nearest integer."
   ]
  },
  {
   "cell_type": "code",
   "execution_count": null,
   "id": "6455fc4b-bab1-4dfc-ba28-c68ae30b9bf5",
   "metadata": {},
   "outputs": [],
   "source": [
    "#Example\n",
    "v=7//3\n",
    "print(v)"
   ]
  },
  {
   "cell_type": "raw",
   "id": "e72c0055-8f77-4b2d-ac3a-d92d874da267",
   "metadata": {},
   "source": [
    "4. **    a**b means a raised to the power b."
   ]
  },
  {
   "cell_type": "code",
   "execution_count": null,
   "id": "6d322ef3-d2e1-4dab-98b2-47af145062fb",
   "metadata": {},
   "outputs": [],
   "source": [
    "#Example\n",
    "m=2**3\n",
    "print(m)"
   ]
  },
  {
   "cell_type": "raw",
   "id": "2bbaf705-6f4d-4e62-9551-fdb755b74041",
   "metadata": {},
   "source": [
    "                                                                                Question 4:"
   ]
  },
  {
   "cell_type": "code",
   "execution_count": null,
   "id": "be38cbee-7e5a-4016-9625-e4fa1414c44b",
   "metadata": {},
   "outputs": [],
   "source": [
    "#Creation of list\n",
    "list1=[100,200,3+4j,-6j,123.65,\"India_Is_Best\",\"PW_OP\",[1,2,3,5],True,False]\n",
    "#Printing the value of Data and its type\n",
    "for i in list1 :\n",
    "    print(\"value= \",i)\n",
    "    print(type(i))\n",
    "    print(\"\\n\")"
   ]
  },
  {
   "cell_type": "raw",
   "id": "dd0e734a-d488-48cf-805a-9b6b30c5605e",
   "metadata": {},
   "source": [
    "Question 5:"
   ]
  },
  {
   "cell_type": "code",
   "execution_count": null,
   "id": "39f216ac-01e5-4790-bcf7-365bad168602",
   "metadata": {},
   "outputs": [],
   "source": [
    "A=int(input(\"Enter A\"))\n",
    "B=int(input(\"ENter B\"))\n",
    "no_of_counts=0\n",
    "while A/B >= 1 :\n",
    "    no_of_counts+=1\n",
    "    A=A/B\n",
    "print(no_of_counts) "
   ]
  },
  {
   "cell_type": "raw",
   "id": "504308d4-17bd-4c15-bcc6-cf14149e6f0a",
   "metadata": {},
   "source": [
    "Question 6:"
   ]
  },
  {
   "cell_type": "code",
   "execution_count": null,
   "id": "8f82edd3-5674-4cc9-870e-fa9c8a658366",
   "metadata": {},
   "outputs": [],
   "source": [
    "list2=[1,5,2,3,56,33,78,90,1123,11,246,67,100,900,22,30,60,9,55,89,45,21,12345,95,23456]\n",
    "for i in list2 :\n",
    "    if (i % 3) == 0 :\n",
    "        print(\"Divisible : \",i)\n",
    "    else :\n",
    "        print(\"Not Divisible : \",i)"
   ]
  },
  {
   "cell_type": "raw",
   "id": "26061a72-2466-4cf3-a80c-fb22bec2a277",
   "metadata": {},
   "source": [
    "Question 7:"
   ]
  },
  {
   "cell_type": "raw",
   "id": "6ae15394-b1b5-4013-820e-91b03a55916e",
   "metadata": {},
   "source": [
    "Mutable obejects refers when indexing comes into play. After assigning some values to a variable , if it allows to change value of a particular index then it is said to be a mutable object.\n",
    "If not then iit is saiud to a immatuble object\n",
    "Example of a Mutable object-->LIST"
   ]
  },
  {
   "cell_type": "code",
   "execution_count": null,
   "id": "bf65ea18-3dfd-4e9b-97ba-81ed57a4ce65",
   "metadata": {},
   "outputs": [],
   "source": [
    "list4=[1,2,3,4,'shravan']\n",
    "print(list4)\n",
    "list4[3]=5\n",
    "print(list4)#see the 3rd index is changed from 4 to 5"
   ]
  },
  {
   "cell_type": "raw",
   "id": "1adcbb05-4674-4815-ac7d-c1edd53d2d86",
   "metadata": {},
   "source": [
    "Example of immutable object-->STRING"
   ]
  },
  {
   "cell_type": "code",
   "execution_count": null,
   "id": "af7a35df-9067-491b-b41e-3d9ff61e4e9b",
   "metadata": {},
   "outputs": [],
   "source": [
    "string1=\"AYUSH\"\n",
    "print(string1)\n",
    "string1[1]=\"T\"#THIS SHOWS AN ERROR\n",
    "print(string1)"
   ]
  }
 ],
 "metadata": {
  "kernelspec": {
   "display_name": "Python 3 (ipykernel)",
   "language": "python",
   "name": "python3"
  },
  "language_info": {
   "codemirror_mode": {
    "name": "ipython",
    "version": 3
   },
   "file_extension": ".py",
   "mimetype": "text/x-python",
   "name": "python",
   "nbconvert_exporter": "python",
   "pygments_lexer": "ipython3",
   "version": "3.10.8"
  }
 },
 "nbformat": 4,
 "nbformat_minor": 5
}
