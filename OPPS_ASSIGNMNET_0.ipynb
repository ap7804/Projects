{
  "nbformat": 4,
  "nbformat_minor": 0,
  "metadata": {
    "colab": {
      "provenance": []
    },
    "kernelspec": {
      "name": "python3",
      "display_name": "Python 3"
    },
    "language_info": {
      "name": "python"
    }
  },
  "cells": [
    {
      "cell_type": "code",
      "execution_count": 61,
      "metadata": {
        "id": "CY3xamKWMSDv"
      },
      "outputs": [],
      "source": [
        "#   Q1\n",
        "class vehicle:\n",
        "    def __init__(self,name,max_speed,average):\n",
        "        self.name=name\n",
        "        self.max_speed=max_speed\n",
        "        self.average=average\n",
        "    def get_details(self):\n",
        "        return self.name,self.max_speed,self.average       "
      ]
    },
    {
      "cell_type": "code",
      "source": [
        "#   Q2\n",
        "class car(vehicle):\n",
        "    def get_capacity(self,capacity):\n",
        "        self.capacity=capacity\n",
        "        return self.name,self.capacity"
      ],
      "metadata": {
        "id": "JBXL6UnSMWL2"
      },
      "execution_count": 62,
      "outputs": []
    },
    {
      "cell_type": "code",
      "source": [
        "car=car(\"BMW X7\",320,13)"
      ],
      "metadata": {
        "id": "XUM0gBqRMXq-"
      },
      "execution_count": 63,
      "outputs": []
    },
    {
      "cell_type": "code",
      "source": [
        "car.get_capacity(7)"
      ],
      "metadata": {
        "colab": {
          "base_uri": "https://localhost:8080/"
        },
        "id": "PLlWOD3LMakV",
        "outputId": "7d74d099-37d4-483f-b573-959941036aff"
      },
      "execution_count": 64,
      "outputs": [
        {
          "output_type": "execute_result",
          "data": {
            "text/plain": [
              "('BMW X7', 7)"
            ]
          },
          "metadata": {},
          "execution_count": 64
        }
      ]
    },
    {
      "cell_type": "code",
      "source": [
        "#  Q3\n",
        "# Multiple inheritance is that kind of of ingeritance where a class is inherited by multiple classes."
      ],
      "metadata": {
        "id": "EkEdluR8Mcu2"
      },
      "execution_count": 65,
      "outputs": []
    },
    {
      "cell_type": "code",
      "source": [
        "class analytics:\n",
        "    def set_analytics(self,sales,profit):\n",
        "        self.sales=sales\n",
        "        self.profit=profit"
      ],
      "metadata": {
        "id": "WoUNjRC3MfHu"
      },
      "execution_count": 66,
      "outputs": []
    },
    {
      "cell_type": "code",
      "source": [
        "class Bugatti(vehicle,analytics):\n",
        "    def Show_details(self):\n",
        "        return self.name,self.max_speed,self.average,self.sales,self.profit\n",
        "              "
      ],
      "metadata": {
        "id": "kZ8KLs3QMhAd"
      },
      "execution_count": 67,
      "outputs": []
    },
    {
      "cell_type": "code",
      "source": [
        "cheron=Bugatti(\"Cheron\",500,7)"
      ],
      "metadata": {
        "id": "iA5XPOlTMo8W"
      },
      "execution_count": 68,
      "outputs": []
    },
    {
      "cell_type": "code",
      "source": [
        "cheron.set_analytics(1000,\"$100000000\")"
      ],
      "metadata": {
        "id": "EZ9-I4P6M4K4"
      },
      "execution_count": 69,
      "outputs": []
    },
    {
      "cell_type": "code",
      "source": [
        "cheron.Show_details()"
      ],
      "metadata": {
        "colab": {
          "base_uri": "https://localhost:8080/"
        },
        "id": "OPgAk3RBM_NS",
        "outputId": "c2b5a2f7-af50-4df6-a5f6-538e55d1fc88"
      },
      "execution_count": 70,
      "outputs": [
        {
          "output_type": "execute_result",
          "data": {
            "text/plain": [
              "('Cheron', 500, 7, 1000, '$100000000')"
            ]
          },
          "metadata": {},
          "execution_count": 70
        }
      ]
    },
    {
      "cell_type": "code",
      "source": [
        "# Q4\n",
        "# Getter= It is a method to access the attribute inside the class\n",
        "# setter= It is a method to mutate the attribute inside the class"
      ],
      "metadata": {
        "id": "oKRYX1veNCQR"
      },
      "execution_count": 71,
      "outputs": []
    },
    {
      "cell_type": "code",
      "source": [
        "class iitropar:\n",
        "  def __init__(self,name,entry_number,Department):\n",
        "    self.name=name\n",
        "    self.entry_number=entry_number\n",
        "    self.Department=Department\n",
        "  @property  ###GETTER\n",
        "  def show_entry_number(self):\n",
        "    return self.entry_number\n",
        "  @show_entry_number.setter  ###SETTER\n",
        "  def set_entry_number(self,entry_number):\n",
        "    self.entry_number=entry_number\n",
        "    "
      ],
      "metadata": {
        "id": "6ujvwqCKOPhT"
      },
      "execution_count": 72,
      "outputs": []
    },
    {
      "cell_type": "code",
      "source": [
        "ayush=iitropar(\"Patel Ayush Sanjiv\",\"2022CSB1101\",\"CSE\")"
      ],
      "metadata": {
        "id": "SQWwEHk2Q1f2"
      },
      "execution_count": 73,
      "outputs": []
    },
    {
      "cell_type": "code",
      "source": [
        "ayush.show_entry_number"
      ],
      "metadata": {
        "colab": {
          "base_uri": "https://localhost:8080/",
          "height": 36
        },
        "id": "OHKP5UfhQ-TN",
        "outputId": "e6bab724-98cc-4607-b49a-443565fa18d3"
      },
      "execution_count": 74,
      "outputs": [
        {
          "output_type": "execute_result",
          "data": {
            "text/plain": [
              "'2022CSB1101'"
            ],
            "application/vnd.google.colaboratory.intrinsic+json": {
              "type": "string"
            }
          },
          "metadata": {},
          "execution_count": 74
        }
      ]
    },
    {
      "cell_type": "code",
      "source": [
        "ayush.set_entry_number=\"2022CSB1102\""
      ],
      "metadata": {
        "id": "mWeyGWxdRCQZ"
      },
      "execution_count": 75,
      "outputs": []
    },
    {
      "cell_type": "code",
      "source": [
        "ayush.show_entry_number"
      ],
      "metadata": {
        "colab": {
          "base_uri": "https://localhost:8080/",
          "height": 36
        },
        "id": "XqCHInMQRO1s",
        "outputId": "48de2303-99d1-4e0f-c3ed-c9640ed47083"
      },
      "execution_count": 76,
      "outputs": [
        {
          "output_type": "execute_result",
          "data": {
            "text/plain": [
              "'2022CSB1102'"
            ],
            "application/vnd.google.colaboratory.intrinsic+json": {
              "type": "string"
            }
          },
          "metadata": {},
          "execution_count": 76
        }
      ]
    },
    {
      "cell_type": "code",
      "source": [
        "# Q5\n",
        "# method overiding in python provide child class a flexibility for implementenation of certain method of parent class as per it's need"
      ],
      "metadata": {
        "id": "N--Xn12-RRUR"
      },
      "execution_count": 77,
      "outputs": []
    },
    {
      "cell_type": "code",
      "source": [
        "class employee:\n",
        "  def __init__(self,name,pay):\n",
        "    self.name=name\n",
        "    self.pay=pay\n",
        "  def get_pay(self):\n",
        "    return self.pay  "
      ],
      "metadata": {
        "id": "dPUtz5yrUDYD"
      },
      "execution_count": 78,
      "outputs": []
    },
    {
      "cell_type": "code",
      "source": [
        "class manager(employee):\n",
        "  def __init__(self,name,pay,bonus):\n",
        "    self.name=name\n",
        "    self.pay=pay\n",
        "    self.bonus=bonus\n",
        "  def get_pay(self):\n",
        "    return self.pay+self.bonus  "
      ],
      "metadata": {
        "id": "dXWPZn3tUTrG"
      },
      "execution_count": 79,
      "outputs": []
    },
    {
      "cell_type": "code",
      "source": [
        "Kirti=employee(\"Kirti\",200000)"
      ],
      "metadata": {
        "id": "ETdpG_ByUvHq"
      },
      "execution_count": 80,
      "outputs": []
    },
    {
      "cell_type": "code",
      "source": [
        "\n",
        "Kirti.get_pay()"
      ],
      "metadata": {
        "colab": {
          "base_uri": "https://localhost:8080/"
        },
        "id": "Ph2fpBt-VFPz",
        "outputId": "8241ecd2-6320-44f1-a9ba-112347cde1ad"
      },
      "execution_count": 81,
      "outputs": [
        {
          "output_type": "execute_result",
          "data": {
            "text/plain": [
              "200000"
            ]
          },
          "metadata": {},
          "execution_count": 81
        }
      ]
    },
    {
      "cell_type": "code",
      "source": [
        "Upkirti=manager(\"Upkirti\",300000,3000)"
      ],
      "metadata": {
        "id": "MSMdj-ZsVOC9"
      },
      "execution_count": 82,
      "outputs": []
    },
    {
      "cell_type": "code",
      "source": [
        "Upkirti.get_pay()"
      ],
      "metadata": {
        "colab": {
          "base_uri": "https://localhost:8080/"
        },
        "id": "_zLL4SGxVnM4",
        "outputId": "5b121f7e-f78c-457b-ecdc-6768a0596ce1"
      },
      "execution_count": 84,
      "outputs": [
        {
          "output_type": "execute_result",
          "data": {
            "text/plain": [
              "303000"
            ]
          },
          "metadata": {},
          "execution_count": 84
        }
      ]
    },
    {
      "cell_type": "code",
      "source": [],
      "metadata": {
        "id": "GCBWQu2nWO4-"
      },
      "execution_count": null,
      "outputs": []
    }
  ]
}