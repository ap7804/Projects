{
  "nbformat": 4,
  "nbformat_minor": 0,
  "metadata": {
    "colab": {
      "provenance": []
    },
    "kernelspec": {
      "name": "python3",
      "display_name": "Python 3"
    },
    "language_info": {
      "name": "python"
    }
  },
  "cells": [
    {
      "cell_type": "code",
      "execution_count": 2,
      "metadata": {
        "id": "sUJN5zOyovNA"
      },
      "outputs": [],
      "source": [
        "# Q1\n",
        "# Whenever there is need to define a datatype which is amalgamation of different typoes of datatype than we use classes\n",
        "# classes are simply userdefined data-types which contain methods which can include variables,functions etc\n",
        "# Object is instance of that class"
      ]
    },
    {
      "cell_type": "code",
      "source": [
        "# Example\n",
        "class Ayush:# Defining my class named \"Ayush\"\n",
        "  def __init__(self,name,dob,nationality):\n",
        "    self.name=name # Variable bound to class\n",
        "    self.dob=dob # same as above\n",
        "    self.nationality=nationality#same as above\n",
        "  def show_details(self):# Function which is also bpound to class\n",
        "    return { \"Name\": self.name,\"Data of Birth\": self.dob,\"Nationality\":self.nationality}"
      ],
      "metadata": {
        "id": "Qg0RGo3AqB1P"
      },
      "execution_count": 6,
      "outputs": []
    },
    {
      "cell_type": "code",
      "source": [
        "# declaring an object named Kris\n",
        "Kris=Ayush(\"Kris Patel\",\"30/02/2003\",\"Indian\")\n",
        "Kris.show_details()"
      ],
      "metadata": {
        "colab": {
          "base_uri": "https://localhost:8080/"
        },
        "id": "SSH0ILboqtLS",
        "outputId": "b3bb30c8-629b-4734-f7cf-b6c82768de70"
      },
      "execution_count": 7,
      "outputs": [
        {
          "output_type": "execute_result",
          "data": {
            "text/plain": [
              "{'Name': 'Kris Patel', 'Data of Birth': '30/02/2003', 'Nationality': 'Indian'}"
            ]
          },
          "metadata": {},
          "execution_count": 7
        }
      ]
    },
    {
      "cell_type": "code",
      "source": [
        "# Q2\n",
        "'''\n",
        "Four Pillars of OOP are\n",
        "1. Abstraction\n",
        "2. Polymorphism\n",
        "3. Inheritance\n",
        "4. Encapsulation\n",
        "'''"
      ],
      "metadata": {
        "colab": {
          "base_uri": "https://localhost:8080/",
          "height": 36
        },
        "id": "sH_XO7oXrebz",
        "outputId": "65c2fb6c-7532-4500-88c9-f4d37d5e2846"
      },
      "execution_count": 9,
      "outputs": [
        {
          "output_type": "execute_result",
          "data": {
            "text/plain": [
              "' \\nFour Pillars of OOP are\\n1. Abstraction\\n2. Polymorphism\\n3. Inheritance\\n4. Encapsulation\\n'"
            ],
            "application/vnd.google.colaboratory.intrinsic+json": {
              "type": "string"
            }
          },
          "metadata": {},
          "execution_count": 9
        }
      ]
    },
    {
      "cell_type": "code",
      "source": [
        "# Q3\n",
        "# __init__() function is a type of special function used in class . This function is directly called whenever an instance of a class is created"
      ],
      "metadata": {
        "id": "43YZyYjmtCWE"
      },
      "execution_count": 10,
      "outputs": []
    },
    {
      "cell_type": "code",
      "source": [
        "class c1:\n",
        "  def __init__(self,a,b):\n",
        "    self.price=a\n",
        "    self.profit=b\n",
        "    print(\"__init__ called\")"
      ],
      "metadata": {
        "id": "Z4aPPnYLtwhc"
      },
      "execution_count": 12,
      "outputs": []
    },
    {
      "cell_type": "code",
      "source": [
        "c1=c1(100,1000)"
      ],
      "metadata": {
        "colab": {
          "base_uri": "https://localhost:8080/"
        },
        "id": "MdTk3aDdt-N1",
        "outputId": "814c0cee-2fd4-4a2a-8ccc-71fde19bb147"
      },
      "execution_count": 13,
      "outputs": [
        {
          "output_type": "stream",
          "name": "stdout",
          "text": [
            "__init__ called\n"
          ]
        }
      ]
    },
    {
      "cell_type": "code",
      "source": [
        "# Q4\n",
        "\"\"\" self simply refers to the current instance or an object.here it binds attributes to argumnents \"\"\""
      ],
      "metadata": {
        "colab": {
          "base_uri": "https://localhost:8080/",
          "height": 36
        },
        "id": "mnOuQxGIuFuN",
        "outputId": "7f8427b5-fdcd-4abf-e3f0-06a44b4424bd"
      },
      "execution_count": 14,
      "outputs": [
        {
          "output_type": "execute_result",
          "data": {
            "text/plain": [
              "' self simply refers to the current instance or an object.here it binds attributes to argumnents '"
            ],
            "application/vnd.google.colaboratory.intrinsic+json": {
              "type": "string"
            }
          },
          "metadata": {},
          "execution_count": 14
        }
      ]
    },
    {
      "cell_type": "code",
      "source": [
        "# Q5\n",
        "\"\"\" As per my knowlwdge there are 4 tupes of inheritance in python\n",
        "1. Single (class a-> class b)\n",
        "2. Multiple (class a + class b -> class c )\n",
        "3. Multilevel (class a -> class b-> class c)\n",
        "4. Hierachial (class a -> class b, class c, class d)\n",
        "\"\"\""
      ],
      "metadata": {
        "colab": {
          "base_uri": "https://localhost:8080/",
          "height": 36
        },
        "id": "5mZ9wS0zukiM",
        "outputId": "30058216-26cf-4b9d-baef-215cbe6c8c37"
      },
      "execution_count": 16,
      "outputs": [
        {
          "output_type": "execute_result",
          "data": {
            "text/plain": [
              "' As per my knowlwdge there are 4 tupes of inheritance in python'"
            ],
            "application/vnd.google.colaboratory.intrinsic+json": {
              "type": "string"
            }
          },
          "metadata": {},
          "execution_count": 16
        }
      ]
    },
    {
      "cell_type": "code",
      "source": [
        "# Single\n",
        "class c1:\n",
        "  def __init__(self,a):\n",
        "    self.name=a\n",
        "class c2(c1):\n",
        "  def __init__(self,b):\n",
        "    self.yob=b"
      ],
      "metadata": {
        "id": "3CCx0GCsu-sR"
      },
      "execution_count": 31,
      "outputs": []
    },
    {
      "cell_type": "code",
      "source": [
        "# Multiple\n",
        "class c3:\n",
        "  c3_index=0\n",
        "class c4(c1,c3):\n",
        "  pass"
      ],
      "metadata": {
        "id": "qOrFa3frv1Dy"
      },
      "execution_count": 32,
      "outputs": []
    },
    {
      "cell_type": "code",
      "source": [
        "# Multilevel\n",
        "class c5(c2):# c1->c2->c5\n",
        "  pass"
      ],
      "metadata": {
        "id": "4qvnTfgbwE5d"
      },
      "execution_count": 35,
      "outputs": []
    },
    {
      "cell_type": "code",
      "source": [
        "# Hierachial\n",
        "class c6(c1):\n",
        "  pass\n",
        "class c7(c1):\n",
        "  pass\n",
        "class c8(c1):\n",
        "  pass\n"
      ],
      "metadata": {
        "id": "ShoRvQnww1LJ"
      },
      "execution_count": 40,
      "outputs": []
    }
  ]
}