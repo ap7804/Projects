{
 "cells": [
  {
   "cell_type": "code",
   "execution_count": null,
   "id": "720aa3bb-849b-481b-9541-9ee86f56c55f",
   "metadata": {},
   "outputs": [],
   "source": [
    "        #Q1\n",
    "#There are two types of comments in python"
   ]
  },
  {
   "cell_type": "code",
   "execution_count": null,
   "id": "b74daa1b-886b-44b5-b63c-6630187e6533",
   "metadata": {},
   "outputs": [],
   "source": [
    "#single line commment:\n",
    "#I am Ayush Patel"
   ]
  },
  {
   "cell_type": "code",
   "execution_count": null,
   "id": "46cc53cc-b711-4dde-a501-f22cca40dfa1",
   "metadata": {},
   "outputs": [],
   "source": [
    "#multi line comment\n",
    "\"\"\"I am Ayush Patel\n",
    "I am from Gujarat\n",
    "I am a Data Science Enthusisast\"\"\""
   ]
  },
  {
   "cell_type": "code",
   "execution_count": null,
   "id": "50ecb1eb-839a-4a31-8a30-e07ab2525278",
   "metadata": {},
   "outputs": [],
   "source": [
    "        #Q2\n",
    "#Variables are simply those bins where we store some data.\n",
    "# We can simply assign values using assignmnt operator(=)\n",
    "#like\n",
    "a=1   # Integer Data\n",
    "b=4+4j  #Complex Data\n",
    "c=True   #Boolean Data"
   ]
  },
  {
   "cell_type": "code",
   "execution_count": null,
   "id": "6fcff4a8-f293-41f6-8dcf-32b945bed557",
   "metadata": {},
   "outputs": [],
   "source": [
    "       #Q3\n",
    "#For coversion of data from one datatype to another we use typecasting.\n",
    "#  var_1 = data_type(var_2)\n",
    "# here data_type is the data  type in which we wish to convert\n",
    "# var_1 is variable in which we will store converted data\n",
    "# var_2 is variable to be converted\n",
    "#Example\n",
    "a=\"1010\" #String\n",
    "c=int(a) #integer"
   ]
  },
  {
   "cell_type": "code",
   "execution_count": null,
   "id": "31d9cc6c-8088-48ee-a108-1930de2b6da6",
   "metadata": {},
   "outputs": [],
   "source": [
    "       #Q4\n",
    "#Step1 : In any text editor write a piece of code and save the file with '.py' extension. let's say abc.py\n",
    "#Step2 : Then open command prompt\n",
    "#Step3 : open the repository in your pc where you have stored the file \n",
    "#Step4 : write ''   python abc.py   '''\n",
    "# Writing thois line inn the command line will execute the code wrritten in abc.py and will show output."
   ]
  },
  {
   "cell_type": "code",
   "execution_count": 1,
   "id": "0fda5cdf-9222-4d1c-9a17-80c4821f99dc",
   "metadata": {},
   "outputs": [
    {
     "data": {
      "text/plain": [
       "[2, 3]"
      ]
     },
     "execution_count": 1,
     "metadata": {},
     "output_type": "execute_result"
    }
   ],
   "source": [
    "        #Q5\n",
    "my_list=[1,2,3,4,5]\n",
    "ans_list=my_list[1:3]\n",
    "ans_list"
   ]
  },
  {
   "cell_type": "code",
   "execution_count": null,
   "id": "5d956228-86d2-4687-85dd-a6deadeab769",
   "metadata": {},
   "outputs": [],
   "source": [
    "       #Q6\n",
    "#Complex number in mathematics is a number which contains both real and imaginary part\n",
    "# It is wrritten in form of a + bi in maths where i=root(-1)\n",
    "# a and b belong the real set\n",
    "# In python programming complex numbers are wrriten in form of a + bj\n",
    "# j=root(-1)\n",
    "#Example\n",
    "c=3+3.4j\n",
    "d=4.2345j"
   ]
  },
  {
   "cell_type": "code",
   "execution_count": null,
   "id": "c357b8d8-99f7-4c47-8d10-22399f6512a6",
   "metadata": {},
   "outputs": [],
   "source": [
    "       # Q7\n",
    "age=25"
   ]
  },
  {
   "cell_type": "code",
   "execution_count": 2,
   "id": "edf6ac9d-c4cf-44f3-8519-6c850e0a97e8",
   "metadata": {},
   "outputs": [
    {
     "data": {
      "text/plain": [
       "float"
      ]
     },
     "execution_count": 2,
     "metadata": {},
     "output_type": "execute_result"
    }
   ],
   "source": [
    "   #Q8\n",
    "price=9.99\n",
    "type(price)# Output is float for sure"
   ]
  },
  {
   "cell_type": "code",
   "execution_count": null,
   "id": "f1d51dd2-bc12-490a-8009-b1c4ddee7183",
   "metadata": {},
   "outputs": [],
   "source": [
    "    #Q9\n",
    "name=\"Ayush Patel\"\n",
    "print(name)"
   ]
  },
  {
   "cell_type": "code",
   "execution_count": 5,
   "id": "7de793ad-1671-4ac8-bc1a-ca67a23cc8c7",
   "metadata": {},
   "outputs": [
    {
     "data": {
      "text/plain": [
       "'World'"
      ]
     },
     "execution_count": 5,
     "metadata": {},
     "output_type": "execute_result"
    }
   ],
   "source": [
    "    #Q10\n",
    "st=\"Hello,World!\"\n",
    "Sub_str=st[-6:-1]\n",
    "Sub_str"
   ]
  },
  {
   "cell_type": "code",
   "execution_count": null,
   "id": "caba4509-2008-46ff-9eca-51b7b2c50b91",
   "metadata": {},
   "outputs": [],
   "source": [
    "    #Q11\n",
    "is_student=True    \n",
    "    "
   ]
  }
 ],
 "metadata": {
  "kernelspec": {
   "display_name": "Python 3 (ipykernel)",
   "language": "python",
   "name": "python3"
  },
  "language_info": {
   "codemirror_mode": {
    "name": "ipython",
    "version": 3
   },
   "file_extension": ".py",
   "mimetype": "text/x-python",
   "name": "python",
   "nbconvert_exporter": "python",
   "pygments_lexer": "ipython3",
   "version": "3.10.8"
  }
 },
 "nbformat": 4,
 "nbformat_minor": 5
}
